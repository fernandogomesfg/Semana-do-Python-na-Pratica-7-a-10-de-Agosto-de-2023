{
 "cells": [
  {
   "cell_type": "markdown",
   "id": "fae7a90f",
   "metadata": {},
   "source": [
    "# Sistema Para Preenchimento Automático de Certificado"
   ]
  },
  {
   "cell_type": "code",
   "execution_count": 2,
   "id": "14e8723c",
   "metadata": {},
   "outputs": [
    {
     "name": "stdout",
     "output_type": "stream",
     "text": [
      "Requirement already satisfied: fpdf in c:\\users\\user\\anaconda3\\lib\\site-packages (1.7.2)\n"
     ]
    }
   ],
   "source": [
    "# instalando bibliotecas\n",
    "!pip install fpdf"
   ]
  },
  {
   "cell_type": "code",
   "execution_count": 2,
   "id": "834a868f",
   "metadata": {},
   "outputs": [],
   "source": [
    "from fpdf import FPDF"
   ]
  },
  {
   "cell_type": "code",
   "execution_count": 25,
   "id": "da2eae34",
   "metadata": {},
   "outputs": [
    {
     "name": "stdout",
     "output_type": "stream",
     "text": [
      "Digite o nome do formando: Nome do Estudante\n",
      "Digite o nome do formador: Fernando Gomes\n"
     ]
    }
   ],
   "source": [
    "nome_formando = input(\"Digite o nome do formando: \")\n",
    "assinatura = input(\"Digite o nome do formador: \")"
   ]
  },
  {
   "cell_type": "code",
   "execution_count": 35,
   "id": "cd57d5e2",
   "metadata": {},
   "outputs": [
    {
     "name": "stdout",
     "output_type": "stream",
     "text": [
      "Certificado gerrado com sucesso!!!\n"
     ]
    }
   ],
   "source": [
    "pdf = FPDF()\n",
    "\n",
    "pdf.add_page()\n",
    "pdf.set_font('Courier', 'B', 28)\n",
    "pdf.image('template.png', x = 0, y = 0)\n",
    "pdf.text(55, 130, nome_formando)\n",
    "pdf.set_font('Arial', 'B', 18)\n",
    "pdf.text(80, 180, assinatura)\n",
    "\n",
    "pdf.output(\"Certificado.pdf\")\n",
    "print(\"Certificado gerrado com sucesso!!!\")"
   ]
  },
  {
   "cell_type": "code",
   "execution_count": null,
   "id": "ff43531b",
   "metadata": {},
   "outputs": [],
   "source": []
  },
  {
   "cell_type": "code",
   "execution_count": null,
   "id": "409faa12",
   "metadata": {},
   "outputs": [],
   "source": []
  },
  {
   "cell_type": "code",
   "execution_count": null,
   "id": "27e7c151",
   "metadata": {},
   "outputs": [],
   "source": []
  }
 ],
 "metadata": {
  "kernelspec": {
   "display_name": "Python 3 (ipykernel)",
   "language": "python",
   "name": "python3"
  },
  "language_info": {
   "codemirror_mode": {
    "name": "ipython",
    "version": 3
   },
   "file_extension": ".py",
   "mimetype": "text/x-python",
   "name": "python",
   "nbconvert_exporter": "python",
   "pygments_lexer": "ipython3",
   "version": "3.10.9"
  }
 },
 "nbformat": 4,
 "nbformat_minor": 5
}
